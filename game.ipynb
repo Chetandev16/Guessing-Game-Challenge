{
 "cells": [
  {
   "cell_type": "code",
   "execution_count": 1,
   "id": "aedebeb0",
   "metadata": {},
   "outputs": [
    {
     "name": "stdout",
     "output_type": "stream",
     "text": [
      "\t\t\t\t\t GUESSING GAME CHALLENGE \n",
      "Rules are - \n",
      "1. a player's guess is less than 1 or greater than 100 \n",
      "2.On a player's first turn, if their guess is within 10 of the number WARM and further then 10 COLD \n",
      "3.On all subsequent turns, if a guess is closer to the number than the previous guess ans will be WARMER or farther from the number than the previous guess ans will be COLDER \n",
      "\n",
      "EVERY TIME IN GIVEN PROGRAM IF YOU WRITE YES DIFFRENCE VALUE WILL BE RESET AND NEW COLD AND WARM ANS WILL BE GIVIN ACCORDING TO YOUR GUESS\n",
      "Enter Your Guess : -423\n",
      "COLD!!\n",
      "You want to continue game ?(yes/no)no\n",
      "Random number is :- 57\n"
     ]
    }
   ],
   "source": [
    "import random\n",
    "print(\"\\t\\t\\t\\t\\t GUESSING GAME CHALLENGE \")\n",
    "print(\"Rules are - \\n1. a player's guess is less than 1 or greater than 100 \\n2.On a player's first turn, if their guess is within 10 of the number WARM and further then 10 COLD \\n3.On all subsequent turns, if a guess is closer to the number than the previous guess ans will be WARMER or farther from the number than the previous guess ans will be COLDER \\n\")\n",
    "v=0\n",
    "c=0\n",
    "num = n = random.randint(1,100)\n",
    "print(\"EVERY TIME IN GIVEN PROGRAM IF YOU WRITE YES DIFFRENCE VALUE WILL BE RESET AND NEW COLD AND WARM ANS WILL BE GIVIN ACCORDING TO YOUR GUESS\")\n",
    "while(c!=1):\n",
    "    val=int(input(\"Enter Your Guess : -\"))\n",
    "    if(val==num):\n",
    "        print(\"Congratulations, your guess is correct !! And guessed number is {}\".format(val))\n",
    "        print(\"Attempts taken - \",v)\n",
    "        break\n",
    "    else:\n",
    "        if(val>num):\n",
    "            diff = val-num\n",
    "            if(diff<=10):\n",
    "                print(\"WARM!!\")\n",
    "                v+=1\n",
    "            elif(diff>10):\n",
    "                print(\"COLD!!\")\n",
    "                v+=1\n",
    "        else:\n",
    "            diff = num-val\n",
    "            if(diff<=10):\n",
    "                print(\"WARM!!\")\n",
    "                v+=1\n",
    "            elif(diff>10):\n",
    "                print(\"COLD!!\")\n",
    "                v+=1\n",
    "\n",
    "        x=input(\"You want to continue game ?(yes/no)\")\n",
    "        if(x==\"yes\"):\n",
    "            val1=int(input(\"Enter Your Guess : -\"))\n",
    "            if(val1==num):\n",
    "                print(\"Congratulations, your guess is correct !! And guessed number is {}\".format(val1))\n",
    "                print(\"Attempts taken - \",v)\n",
    "                break\n",
    "            else:\n",
    "                if(val1>num):\n",
    "                    diff1= val1-num\n",
    "                    if(diff1<=diff):\n",
    "                        print(\"WARMER\")\n",
    "                        v+=1\n",
    "                    else:\n",
    "                        print(\"COLDER!!\")\n",
    "                        v+=1\n",
    "                else:\n",
    "                    diff1= num-val1\n",
    "                    if(diff1>diff):\n",
    "                        print(\"COLDER!!\")\n",
    "                        v+=1\n",
    "                    else:\n",
    "                        print(\"WARMER!!\")\n",
    "                        v+=1\n",
    "                    \n",
    "        else:\n",
    "            print(\"Random number is :- {}\".format(num))\n",
    "            c+=1"
   ]
  },
  {
   "cell_type": "code",
   "execution_count": null,
   "id": "ed1e456f",
   "metadata": {},
   "outputs": [],
   "source": []
  }
 ],
 "metadata": {
  "kernelspec": {
   "display_name": "Python 3",
   "language": "python",
   "name": "python3"
  },
  "language_info": {
   "codemirror_mode": {
    "name": "ipython",
    "version": 3
   },
   "file_extension": ".py",
   "mimetype": "text/x-python",
   "name": "python",
   "nbconvert_exporter": "python",
   "pygments_lexer": "ipython3",
   "version": "3.9.5"
  }
 },
 "nbformat": 4,
 "nbformat_minor": 5
}
